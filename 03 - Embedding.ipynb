{
 "cells": [
  {
   "cell_type": "code",
   "execution_count": null,
   "id": "c0bb78fb-351c-4e25-85c2-0a08a1c3a759",
   "metadata": {
    "scrolled": true
   },
   "outputs": [],
   "source": [
    "%pip install --upgrade chromadb"
   ]
  },
  {
   "cell_type": "code",
   "execution_count": null,
   "id": "37bc6a4f-1ea3-4442-8194-b235141c7f9c",
   "metadata": {},
   "outputs": [],
   "source": [
    "%pip install --upgrade sentence_transformers"
   ]
  },
  {
   "cell_type": "code",
   "execution_count": null,
   "id": "176e8f57-7526-48ed-a7ad-9d13451efd06",
   "metadata": {},
   "outputs": [],
   "source": [
    "from tinydb import TinyDB, Query\n",
    "\n",
    "db = TinyDB('db.json')\n",
    "table = db.table('articles')\n",
    "\n",
    "articles = table.all()\n",
    "print(f'loaded {len(articles)} articles')\n",
    "\n",
    "articles = [x for x in articles if x['abstract'] != 'No abstract available.']\n",
    "print(f'retaining {len(articles)} articles')"
   ]
  },
  {
   "cell_type": "code",
   "execution_count": null,
   "id": "4bb4ba10-444a-435f-be13-dff032f71c71",
   "metadata": {},
   "outputs": [],
   "source": [
    "documents = []\n",
    "ids = []\n",
    "\n",
    "for article in articles:\n",
    "    documents.append(article['abstract'])\n",
    "    ids.append(article['link'])"
   ]
  },
  {
   "cell_type": "code",
   "execution_count": null,
   "id": "31d402e9-0f45-4986-a767-3e6c11ddcd52",
   "metadata": {},
   "outputs": [],
   "source": [
    "import chromadb\n",
    "from chromadb.utils import embedding_functions\n",
    "\n",
    "client = chromadb.PersistentClient(path=\"vectors_db\")"
   ]
  },
  {
   "cell_type": "code",
   "execution_count": null,
   "id": "832ae600-37d9-486d-b280-7dace813f45a",
   "metadata": {},
   "outputs": [],
   "source": [
    "ef = embedding_functions.SentenceTransformerEmbeddingFunction(model_name=\"allenai-specter\")\n",
    "\n",
    "# client.delete_collection(name=\"articles\")\n",
    "collection = client.create_collection(\n",
    "    name=\"articles\",\n",
    "    embedding_function=ef\n",
    ")\n",
    "\n",
    "collection.add(\n",
    "    documents=documents,\n",
    "    ids=ids\n",
    ")"
   ]
  },
  {
   "cell_type": "code",
   "execution_count": null,
   "id": "225d098f-95e8-4adf-9a57-029a7454b2ef",
   "metadata": {},
   "outputs": [],
   "source": [
    "results = collection.query(\n",
    "    query_texts=[\"infectious diseases transmitted by mosquitoes affecting children\"],\n",
    "    n_results=5\n",
    ")\n",
    "\n",
    "results"
   ]
  },
  {
   "cell_type": "markdown",
   "id": "19e86eae-101e-43d7-9492-81559e74d760",
   "metadata": {},
   "source": [
    "Embedding with the NVIDIA Embed v2 model: https://huggingface.co/nvidia/NV-Embed-v2"
   ]
  },
  {
   "cell_type": "code",
   "execution_count": null,
   "id": "460fcb4e-94c7-4020-bb4d-02988b161ce0",
   "metadata": {},
   "outputs": [],
   "source": [
    "%pip install einops datasets"
   ]
  },
  {
   "cell_type": "code",
   "execution_count": null,
   "id": "8f45d717-88d9-47d8-8e20-2eddb6e7fe8a",
   "metadata": {},
   "outputs": [],
   "source": [
    "%pip install pynvml"
   ]
  },
  {
   "cell_type": "code",
   "execution_count": null,
   "id": "b302d6a5-a8b8-45db-8a50-d5849ec5faa2",
   "metadata": {},
   "outputs": [],
   "source": [
    "import utils\n",
    "utils.print_device_info()"
   ]
  },
  {
   "cell_type": "code",
   "execution_count": null,
   "id": "7afd5e15-a2c9-4036-bf54-944d7a137d9e",
   "metadata": {},
   "outputs": [],
   "source": [
    "ef = embedding_functions.SentenceTransformerEmbeddingFunction(\n",
    "    model_name=\"nvidia/NV-Embed-v2\",\n",
    "    # device='cuda',\n",
    "    trust_remote_code=True\n",
    ")\n",
    "\n",
    "client.delete_collection(name=\"articles2\")\n",
    "collection = client.create_collection(\n",
    "    name=\"articles2\",\n",
    "    embedding_function=ef\n",
    ")"
   ]
  },
  {
   "cell_type": "code",
   "execution_count": null,
   "id": "47f883cf-f21f-456e-9ec3-57fe491936f8",
   "metadata": {},
   "outputs": [],
   "source": [
    "from ipywidgets import IntProgress\n",
    "from IPython.display import display\n",
    "\n",
    "progress_bar = IntProgress(min=0, max=len(documents))\n",
    "display(progress_bar)\n",
    "\n",
    "for i, item in enumerate(documents):\n",
    "    collection.add(\n",
    "        documents=item,\n",
    "        ids=ids[i]\n",
    "    )\n",
    "\n",
    "    progress_bar.value += 1"
   ]
  },
  {
   "cell_type": "code",
   "execution_count": null,
   "id": "32e1f7f5-b787-48a0-8874-89bee50b06e6",
   "metadata": {},
   "outputs": [],
   "source": [
    "from transformers import AutoModel\n",
    "from torch.nn import DataParallel\n",
    "\n",
    "model = AutoModel.from_pretrained(\n",
    "    \"nvidia/NV-Embed-v2\",\n",
    "    trust_remote_code=True,\n",
    "    device_map='auto'\n",
    ")\n",
    "\n",
    "# model = DataParallel(model)\n",
    "for module_key, module in model._modules.items():\n",
    "    model._modules[module_key] = DataParallel(module)"
   ]
  },
  {
   "cell_type": "code",
   "execution_count": null,
   "id": "84c979f7-3185-42fe-893d-9082eed6a289",
   "metadata": {},
   "outputs": [],
   "source": [
    "model.encode(articles[0]['abstract'])"
   ]
  },
  {
   "cell_type": "markdown",
   "id": "86ba2a07-3414-4097-888c-7736b1c1c806",
   "metadata": {},
   "source": [
    "Generate embeddings using Allen AI SPECTER2: https://huggingface.co/allenai/specter2"
   ]
  },
  {
   "cell_type": "code",
   "execution_count": null,
   "id": "7648d7c9-cb1e-4f14-8e56-1a18c2f4ae5f",
   "metadata": {},
   "outputs": [],
   "source": [
    "%pip install adapters"
   ]
  },
  {
   "cell_type": "code",
   "execution_count": null,
   "id": "e7014057-e5ec-483e-a8af-82fa3caed01d",
   "metadata": {},
   "outputs": [],
   "source": [
    "from transformers import AutoTokenizer\n",
    "from adapters import AutoAdapterModel\n",
    "\n",
    "tokenizer = AutoTokenizer.from_pretrained('allenai/specter2_base')\n",
    "model = AutoAdapterModel.from_pretrained('allenai/specter2_base')\n",
    "\n",
    "model.load_adapter(\"allenai/specter2\", source=\"hf\", load_as=\"specter2\", set_active=True)"
   ]
  }
 ],
 "metadata": {
  "kernelspec": {
   "display_name": "Python 3 (ipykernel)",
   "language": "python",
   "name": "python3"
  },
  "language_info": {
   "codemirror_mode": {
    "name": "ipython",
    "version": 3
   },
   "file_extension": ".py",
   "mimetype": "text/x-python",
   "name": "python",
   "nbconvert_exporter": "python",
   "pygments_lexer": "ipython3",
   "version": "3.12.3"
  }
 },
 "nbformat": 4,
 "nbformat_minor": 5
}
