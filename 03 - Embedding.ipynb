{
 "cells": [
  {
   "cell_type": "code",
   "execution_count": null,
   "id": "c0bb78fb-351c-4e25-85c2-0a08a1c3a759",
   "metadata": {
    "scrolled": true
   },
   "outputs": [],
   "source": [
    "%pip install chromadb"
   ]
  },
  {
   "cell_type": "code",
   "execution_count": null,
   "id": "37bc6a4f-1ea3-4442-8194-b235141c7f9c",
   "metadata": {},
   "outputs": [],
   "source": [
    "%pip install sentence_transformers"
   ]
  },
  {
   "cell_type": "code",
   "execution_count": null,
   "id": "176e8f57-7526-48ed-a7ad-9d13451efd06",
   "metadata": {},
   "outputs": [],
   "source": [
    "from tinydb import TinyDB, Query\n",
    "\n",
    "db = TinyDB('db.json')\n",
    "table = db.table('articles')\n",
    "\n",
    "articles = table.all()\n",
    "\n",
    "print(f'loaded {len(articles)} articles')"
   ]
  },
  {
   "cell_type": "code",
   "execution_count": null,
   "id": "9f6155a8-4f23-48b7-90f6-984450ad2e13",
   "metadata": {},
   "outputs": [],
   "source": [
    "articles = [x for x in articles if x['abstract'] != 'No abstract available.']\n",
    "\n",
    "print(f'retaining {len(articles)} articles')"
   ]
  },
  {
   "cell_type": "code",
   "execution_count": null,
   "id": "4bb4ba10-444a-435f-be13-dff032f71c71",
   "metadata": {},
   "outputs": [],
   "source": [
    "documents = []\n",
    "ids = []\n",
    "\n",
    "for article in articles:\n",
    "    documents.append(article['abstract'])\n",
    "    ids.append(article['link'])"
   ]
  },
  {
   "cell_type": "code",
   "execution_count": null,
   "id": "b574ed71-29d9-44ff-bc9c-1e6325a79a4e",
   "metadata": {},
   "outputs": [],
   "source": [
    "import chromadb\n",
    "from chromadb.utils import embedding_functions\n",
    "\n",
    "client = chromadb.PersistentClient(path=\"vectors_db\")\n",
    "\n",
    "ef = embedding_functions.SentenceTransformerEmbeddingFunction(model_name=\"allenai-specter\")\n",
    "\n",
    "# client.delete_collection(name=\"articles\")\n",
    "collection = client.create_collection(\n",
    "    name=\"articles\",\n",
    "    embedding_function=ef\n",
    ")\n",
    "\n",
    "collection.add(\n",
    "    documents=documents,\n",
    "    ids=ids\n",
    ")"
   ]
  },
  {
   "cell_type": "code",
   "execution_count": null,
   "id": "225d098f-95e8-4adf-9a57-029a7454b2ef",
   "metadata": {},
   "outputs": [],
   "source": [
    "results = collection.query(\n",
    "    query_texts=[\"infectious diseases transmitted by mosquitoes affecting children\"],\n",
    "    n_results=10\n",
    ")\n",
    "\n",
    "results"
   ]
  },
  {
   "cell_type": "code",
   "execution_count": null,
   "id": "32e1f7f5-b787-48a0-8874-89bee50b06e6",
   "metadata": {},
   "outputs": [],
   "source": []
  }
 ],
 "metadata": {
  "kernelspec": {
   "display_name": "Python 3 (ipykernel)",
   "language": "python",
   "name": "python3"
  },
  "language_info": {
   "codemirror_mode": {
    "name": "ipython",
    "version": 3
   },
   "file_extension": ".py",
   "mimetype": "text/x-python",
   "name": "python",
   "nbconvert_exporter": "python",
   "pygments_lexer": "ipython3",
   "version": "3.12.3"
  }
 },
 "nbformat": 4,
 "nbformat_minor": 5
}
