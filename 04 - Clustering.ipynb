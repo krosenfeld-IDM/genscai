{
 "cells": [
  {
   "cell_type": "code",
   "execution_count": null,
   "id": "26082694-e5ae-4a14-9923-9453cfef5247",
   "metadata": {
    "scrolled": true
   },
   "outputs": [],
   "source": [
    "%pip install sentence-transformers"
   ]
  },
  {
   "cell_type": "code",
   "execution_count": null,
   "id": "381c4a74-a779-46a6-938f-4402d85b9157",
   "metadata": {},
   "outputs": [],
   "source": [
    "%pip install seaborn"
   ]
  },
  {
   "cell_type": "code",
   "execution_count": null,
   "id": "176e8f57-7526-48ed-a7ad-9d13451efd06",
   "metadata": {},
   "outputs": [],
   "source": [
    "from tinydb import TinyDB, Query\n",
    "\n",
    "db = TinyDB('db.json')\n",
    "table = db.table('articles')\n",
    "\n",
    "articles = table.all()\n",
    "\n",
    "print(f'loaded {len(articles)} articles')\n",
    "\n",
    "sentences = [x['abstract'] for x in articles if x['abstract'] != 'No abstract available.']\n",
    "\n",
    "print(f'retaining {len(sentences)} articles')"
   ]
  },
  {
   "cell_type": "code",
   "execution_count": null,
   "id": "32e1f7f5-b787-48a0-8874-89bee50b06e6",
   "metadata": {},
   "outputs": [],
   "source": [
    "from sentence_transformers import SentenceTransformer\n",
    "\n",
    "model = SentenceTransformer('sentence-transformers/allenai-specter')\n",
    "embeddings = model.encode(sentences)\n",
    "\n",
    "print(embeddings)"
   ]
  },
  {
   "cell_type": "code",
   "execution_count": null,
   "id": "fd43a578-a7cd-42a7-a93f-39ea479375dc",
   "metadata": {},
   "outputs": [],
   "source": [
    "from sentence_transformers import SentenceTransformer\n",
    "from sklearn.manifold import TSNE\n",
    "import seaborn as sns\n",
    "\n",
    "# Reduce embedding dimensionality using t-SNE for visualization\n",
    "viz = TSNE(n_components=2, max_iter=10000).fit_transform(embeddings)\n",
    "# viz_embeddings = TSNE(n_components=2, perplexity=100, n_iter=10000).fit_transform(embeddings)\n",
    "\n",
    "# Plot\n",
    "sns.scatterplot(x=viz[:, 0], y=viz[:, 1], s=100)\n",
    "# sns.scatterplot(x=viz_embeddings[:, 0], y=viz_embeddings[:, 1], hue=labels, palette=palette, s=100)"
   ]
  },
  {
   "cell_type": "code",
   "execution_count": null,
   "id": "65248041-3d53-466d-bafd-30c84855cf90",
   "metadata": {},
   "outputs": [],
   "source": [
    "from sklearn.decomposition import PCA\n",
    "import matplotlib.pyplot as plt\n",
    "\n",
    "pca = PCA(n_components=2)\n",
    "pca = pca.fit(embeddings)\n",
    "pca = pca.transform(embeddings)\n",
    "\n",
    "fig = plt.figure(figsize=(8,3))\n",
    "plt.scatter(pca[:,0],pca[:,1])\n",
    "plt.show()"
   ]
  },
  {
   "cell_type": "code",
   "execution_count": null,
   "id": "a3243587-5acf-4c8d-b252-2c3809f50bff",
   "metadata": {},
   "outputs": [],
   "source": [
    "from sklearn.cluster import KMeans\n",
    "import matplotlib.pyplot as plt\n",
    "\n",
    "X = embeddings\n",
    "\n",
    "kmeans = KMeans(n_clusters=3)\n",
    "kmeans.fit(X)\n",
    "\n",
    "centers = kmeans.cluster_centers_\n",
    "\n",
    "plt.scatter(X[:, 0], X[:, 1])\n",
    "plt.scatter(centers[:, 0], centers[:, 1], marker='x', color='red')\n",
    "plt.show()"
   ]
  },
  {
   "cell_type": "code",
   "execution_count": null,
   "id": "050ae693-c623-4fb9-9fa3-303e34729633",
   "metadata": {},
   "outputs": [],
   "source": [
    "from scipy.cluster.hierarchy import dendrogram, linkage\n",
    "from sklearn.cluster import AgglomerativeClustering\n",
    "import matplotlib.pyplot as plt\n",
    "\n",
    "linkage_matrix = linkage(embeddings, method='ward')\n",
    "\n",
    "dendrogram(linkage_matrix)\n",
    "plt.show()\n",
    "\n",
    "model = AgglomerativeClustering(n_clusters=8, linkage='ward')\n",
    "model.fit(embeddings)\n",
    "\n",
    "labels = model.labels_\n",
    "print(labels)"
   ]
  },
  {
   "cell_type": "code",
   "execution_count": null,
   "id": "67d270d3-ba39-4580-b162-275745ea1959",
   "metadata": {},
   "outputs": [],
   "source": []
  }
 ],
 "metadata": {
  "kernelspec": {
   "display_name": "Python 3 (ipykernel)",
   "language": "python",
   "name": "python3"
  },
  "language_info": {
   "codemirror_mode": {
    "name": "ipython",
    "version": 3
   },
   "file_extension": ".py",
   "mimetype": "text/x-python",
   "name": "python",
   "nbconvert_exporter": "python",
   "pygments_lexer": "ipython3",
   "version": "3.12.3"
  }
 },
 "nbformat": 4,
 "nbformat_minor": 5
}
