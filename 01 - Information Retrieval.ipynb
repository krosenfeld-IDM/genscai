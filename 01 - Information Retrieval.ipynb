{
 "cells": [
  {
   "cell_type": "code",
   "execution_count": 1,
   "id": "864245cd-760e-400b-a1a1-815623e61192",
   "metadata": {},
   "outputs": [
    {
     "name": "stdout",
     "output_type": "stream",
     "text": [
      "Requirement already satisfied: beautifulsoup4 in ./.venv/lib/python3.12/site-packages (4.12.3)\n",
      "Requirement already satisfied: soupsieve>1.2 in ./.venv/lib/python3.12/site-packages (from beautifulsoup4) (2.6)\n",
      "Note: you may need to restart the kernel to use updated packages.\n"
     ]
    }
   ],
   "source": [
    "%pip install --upgrade beautifulsoup4"
   ]
  },
  {
   "cell_type": "code",
   "execution_count": 2,
   "id": "c46d66af",
   "metadata": {},
   "outputs": [
    {
     "name": "stdout",
     "output_type": "stream",
     "text": [
      "Requirement already satisfied: tinydb in ./.venv/lib/python3.12/site-packages (4.8.2)\n",
      "Note: you may need to restart the kernel to use updated packages.\n"
     ]
    }
   ],
   "source": [
    "%pip install --upgrade tinydb"
   ]
  },
  {
   "cell_type": "code",
   "execution_count": 3,
   "id": "0257420a",
   "metadata": {},
   "outputs": [
    {
     "name": "stdout",
     "output_type": "stream",
     "text": [
      "Requirement already satisfied: ipywidgets in ./.venv/lib/python3.12/site-packages (8.1.5)\n",
      "Requirement already satisfied: comm>=0.1.3 in ./.venv/lib/python3.12/site-packages (from ipywidgets) (0.2.2)\n",
      "Requirement already satisfied: ipython>=6.1.0 in ./.venv/lib/python3.12/site-packages (from ipywidgets) (8.30.0)\n",
      "Requirement already satisfied: traitlets>=4.3.1 in ./.venv/lib/python3.12/site-packages (from ipywidgets) (5.14.3)\n",
      "Requirement already satisfied: widgetsnbextension~=4.0.12 in ./.venv/lib/python3.12/site-packages (from ipywidgets) (4.0.13)\n",
      "Requirement already satisfied: jupyterlab-widgets~=3.0.12 in ./.venv/lib/python3.12/site-packages (from ipywidgets) (3.0.13)\n",
      "Requirement already satisfied: decorator in ./.venv/lib/python3.12/site-packages (from ipython>=6.1.0->ipywidgets) (5.1.1)\n",
      "Requirement already satisfied: jedi>=0.16 in ./.venv/lib/python3.12/site-packages (from ipython>=6.1.0->ipywidgets) (0.19.2)\n",
      "Requirement already satisfied: matplotlib-inline in ./.venv/lib/python3.12/site-packages (from ipython>=6.1.0->ipywidgets) (0.1.7)\n",
      "Requirement already satisfied: pexpect>4.3 in ./.venv/lib/python3.12/site-packages (from ipython>=6.1.0->ipywidgets) (4.9.0)\n",
      "Requirement already satisfied: prompt_toolkit<3.1.0,>=3.0.41 in ./.venv/lib/python3.12/site-packages (from ipython>=6.1.0->ipywidgets) (3.0.48)\n",
      "Requirement already satisfied: pygments>=2.4.0 in ./.venv/lib/python3.12/site-packages (from ipython>=6.1.0->ipywidgets) (2.18.0)\n",
      "Requirement already satisfied: stack_data in ./.venv/lib/python3.12/site-packages (from ipython>=6.1.0->ipywidgets) (0.6.3)\n",
      "Requirement already satisfied: parso<0.9.0,>=0.8.4 in ./.venv/lib/python3.12/site-packages (from jedi>=0.16->ipython>=6.1.0->ipywidgets) (0.8.4)\n",
      "Requirement already satisfied: ptyprocess>=0.5 in ./.venv/lib/python3.12/site-packages (from pexpect>4.3->ipython>=6.1.0->ipywidgets) (0.7.0)\n",
      "Requirement already satisfied: wcwidth in ./.venv/lib/python3.12/site-packages (from prompt_toolkit<3.1.0,>=3.0.41->ipython>=6.1.0->ipywidgets) (0.2.13)\n",
      "Requirement already satisfied: executing>=1.2.0 in ./.venv/lib/python3.12/site-packages (from stack_data->ipython>=6.1.0->ipywidgets) (2.1.0)\n",
      "Requirement already satisfied: asttokens>=2.1.0 in ./.venv/lib/python3.12/site-packages (from stack_data->ipython>=6.1.0->ipywidgets) (3.0.0)\n",
      "Requirement already satisfied: pure-eval in ./.venv/lib/python3.12/site-packages (from stack_data->ipython>=6.1.0->ipywidgets) (0.2.3)\n",
      "Note: you may need to restart the kernel to use updated packages.\n"
     ]
    }
   ],
   "source": [
    "%pip install --upgrade ipywidgets"
   ]
  },
  {
   "cell_type": "markdown",
   "id": "69aac03a",
   "metadata": {},
   "source": [
    "Define a function for retrieving a page of filtered articles"
   ]
  },
  {
   "cell_type": "code",
   "execution_count": 4,
   "id": "62952b65-1670-4047-a37e-cfe5dc01711a",
   "metadata": {},
   "outputs": [],
   "source": [
    "import requests\n",
    "\n",
    "HTTP_HEADERS = {\n",
    "    'User-Agent': 'Mozilla/5.0 (X11; Ubuntu; Linux x86_64; rv:133.0) Gecko/20100101 Firefox/133.0'\n",
    "}\n",
    "\n",
    "def retrieve_page(page_number):\n",
    "    url = 'https://midasnetwork.us/wp-admin/admin-ajax.php'\n",
    "\n",
    "    data = {\n",
    "        'action': 'filter_papers',\n",
    "        'paged': f'{page_number}',\n",
    "        'journal': '',\n",
    "        'author': '',\n",
    "        'title': '',\n",
    "        'startdate': '2024-11-01',\n",
    "        'enddate': '',\n",
    "        'displaydefault': '',\n",
    "    }\n",
    "\n",
    "    return requests.post(url, data=data, headers=HTTP_HEADERS)"
   ]
  },
  {
   "cell_type": "markdown",
   "id": "d3e89968",
   "metadata": {},
   "source": [
    "Retrieve the first page of the paginated list of filtered articles. Determine the number of pages to process."
   ]
  },
  {
   "cell_type": "code",
   "execution_count": 5,
   "id": "631e433e",
   "metadata": {},
   "outputs": [
    {
     "name": "stdout",
     "output_type": "stream",
     "text": [
      "pages to process: 4\n"
     ]
    }
   ],
   "source": [
    "from bs4 import BeautifulSoup\n",
    "\n",
    "page = retrieve_page(1)\n",
    "\n",
    "soup = BeautifulSoup(page.text, 'html.parser')\n",
    "pages = soup.find_all('a', {'class', 'page-numbers'})\n",
    "\n",
    "last_page = int(pages[-2].text)\n",
    "\n",
    "print(f'pages to process: {last_page}')"
   ]
  },
  {
   "cell_type": "markdown",
   "id": "8e7c9050",
   "metadata": {},
   "source": [
    "Create a list of links to article detail pages by iterating over the pages of filtered articles."
   ]
  },
  {
   "cell_type": "code",
   "execution_count": 6,
   "id": "7b64174c-0bcd-4b0b-80a8-3530b6e110a1",
   "metadata": {},
   "outputs": [
    {
     "name": "stdout",
     "output_type": "stream",
     "text": [
      "processing page 1 of 4\n",
      "retrieving page 2\n",
      "processing page 2 of 4\n",
      "retrieving page 3\n",
      "processing page 3 of 4\n",
      "retrieving page 4\n",
      "processing page 4 of 4\n"
     ]
    }
   ],
   "source": [
    "article_links = []\n",
    "i = 1\n",
    "\n",
    "while True:\n",
    "    print(f'processing page {i} of {last_page}')\n",
    "\n",
    "    for article in soup.find_all('article'):\n",
    "        link = article.find('a')\n",
    "        article_links.append(link.get('href'))\n",
    "\n",
    "    # stop if we just processed the last page\n",
    "    if i == last_page:\n",
    "        break\n",
    "\n",
    "    i += 1\n",
    "\n",
    "    print(f'retrieving page {i}')\n",
    "\n",
    "    page = retrieve_page(i)\n",
    "    soup = BeautifulSoup(page.text, 'html.parser')"
   ]
  },
  {
   "cell_type": "markdown",
   "id": "05bafeb6",
   "metadata": {},
   "source": [
    "Load details for each article by iterating over the list of article detail page links and loading and processing each page."
   ]
  },
  {
   "cell_type": "code",
   "execution_count": 7,
   "id": "af3bfcd5-3b0b-4a68-8457-6407d6d7c5c6",
   "metadata": {},
   "outputs": [
    {
     "data": {
      "application/vnd.jupyter.widget-view+json": {
       "model_id": "90e3ed4d3f2041738a6b0e4711799f46",
       "version_major": 2,
       "version_minor": 0
      },
      "text/plain": [
       "IntProgress(value=0, max=84)"
      ]
     },
     "metadata": {},
     "output_type": "display_data"
    },
    {
     "name": "stdout",
     "output_type": "stream",
     "text": [
      "procesing 84 articles\n"
     ]
    }
   ],
   "source": [
    "import json\n",
    "\n",
    "from ipywidgets import IntProgress\n",
    "from IPython.display import display\n",
    "\n",
    "progress_bar = IntProgress(min=0, max=len(article_links)) # instantiate a progress bar\n",
    "display(progress_bar)\n",
    "\n",
    "articles = []\n",
    "print(f'procesing {len(article_links)} articles')\n",
    "\n",
    "for link in article_links:\n",
    "    resp = requests.get(link, headers=HTTP_HEADERS)\n",
    "    soup = BeautifulSoup(resp.text, 'html.parser')\n",
    "\n",
    "    data = soup.find_all('p', {'class', 'elementor-heading-title'})\n",
    "    \n",
    "    article = {\n",
    "        'title': data[0].text,\n",
    "        'abstract': data[1].text,\n",
    "        'journal': data[2].text,\n",
    "        'reference': data[3].text\n",
    "    }\n",
    "    \n",
    "    refs = data[3].find_all('a')\n",
    "    article['link'] = refs[1].get('href')\n",
    "\n",
    "    articles.append(article)\n",
    "\n",
    "    progress_bar.value += 1"
   ]
  },
  {
   "cell_type": "markdown",
   "id": "86f98b84",
   "metadata": {},
   "source": [
    "Store the article details in a local NoSQL (JSON) database for later re-use."
   ]
  },
  {
   "cell_type": "code",
   "execution_count": 8,
   "id": "e5eaa8cf-7bf2-410f-b896-05521bc69a10",
   "metadata": {},
   "outputs": [
    {
     "name": "stdout",
     "output_type": "stream",
     "text": [
      "84 articles stored (total)\n"
     ]
    }
   ],
   "source": [
    "from tinydb import TinyDB, Query\n",
    "\n",
    "db = TinyDB('db.json')\n",
    "table = db.table('articles')\n",
    "\n",
    "for article in articles:\n",
    "    table.insert(article)\n",
    "\n",
    "print(f'{len(table.all())} articles stored (total)')"
   ]
  },
  {
   "cell_type": "code",
   "execution_count": null,
   "id": "49144ed9-9d95-4067-a29f-eaed74a2f600",
   "metadata": {},
   "outputs": [],
   "source": []
  }
 ],
 "metadata": {
  "kernelspec": {
   "display_name": "Python 3 (ipykernel)",
   "language": "python",
   "name": "python3"
  },
  "language_info": {
   "codemirror_mode": {
    "name": "ipython",
    "version": 3
   },
   "file_extension": ".py",
   "mimetype": "text/x-python",
   "name": "python",
   "nbconvert_exporter": "python",
   "pygments_lexer": "ipython3",
   "version": "3.12.3"
  }
 },
 "nbformat": 4,
 "nbformat_minor": 5
}
