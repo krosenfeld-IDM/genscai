{
 "cells": [
  {
   "cell_type": "code",
   "execution_count": null,
   "id": "864245cd-760e-400b-a1a1-815623e61192",
   "metadata": {},
   "outputs": [],
   "source": [
    "!pip install beautifulsoup4"
   ]
  },
  {
   "cell_type": "code",
   "execution_count": null,
   "id": "b11a2aac",
   "metadata": {},
   "outputs": [],
   "source": [
    "!pip install openai"
   ]
  },
  {
   "cell_type": "code",
   "execution_count": null,
   "id": "62952b65-1670-4047-a37e-cfe5dc01711a",
   "metadata": {},
   "outputs": [],
   "source": [
    "import requests\n",
    "\n",
    "url = 'https://midasnetwork.us/wp-admin/admin-ajax.php'\n",
    "\n",
    "headers = {\n",
    "    'User-Agent': 'Mozilla/5.0 (X11; Ubuntu; Linux x86_64; rv:133.0) Gecko/20100101 Firefox/133.0'\n",
    "}\n",
    "\n",
    "data = {\n",
    "    'action': 'filter_papers',\n",
    "    'paged': '1',\n",
    "    'journal': '',\n",
    "    'author': '',\n",
    "    'title': '',\n",
    "    'startdate': '2024-10-01',\n",
    "    'enddate': '',\n",
    "    'displaydefault': '',\n",
    "}\n",
    "\n",
    "resp = requests.post(url, data=data, headers=headers)"
   ]
  },
  {
   "cell_type": "code",
   "execution_count": null,
   "id": "7b64174c-0bcd-4b0b-80a8-3530b6e110a1",
   "metadata": {},
   "outputs": [],
   "source": [
    "from bs4 import BeautifulSoup\n",
    "\n",
    "soup = BeautifulSoup(resp.text, 'html.parser')\n",
    "links = []\n",
    "\n",
    "for article in soup.find_all('article'):\n",
    "    link = article.find('a')\n",
    "    links.append(link.get('href'))"
   ]
  },
  {
   "cell_type": "code",
   "execution_count": null,
   "id": "af3bfcd5-3b0b-4a68-8457-6407d6d7c5c6",
   "metadata": {},
   "outputs": [],
   "source": [
    "import json\n",
    "\n",
    "articles = []\n",
    "\n",
    "for link in links:\n",
    "    resp = requests.get(link, headers=headers)\n",
    "    soup = BeautifulSoup(resp.text, 'html.parser')\n",
    "\n",
    "    data = soup.find_all('p', {'class', 'elementor-heading-title'})\n",
    "    \n",
    "    article = {\n",
    "        'title': data[0].text,\n",
    "        'abstract': data[1].text,\n",
    "        'journal': data[2].text,\n",
    "        'reference': data[3].text\n",
    "    }\n",
    "\n",
    "    refs = data[3].find_all('a')\n",
    "    article['link'] = refs[1].get('href')\n",
    "\n",
    "    articles.append(article)"
   ]
  },
  {
   "cell_type": "code",
   "execution_count": null,
   "id": "e5eaa8cf-7bf2-410f-b896-05521bc69a10",
   "metadata": {},
   "outputs": [],
   "source": [
    "from openai import OpenAI\n",
    "client = OpenAI()\n",
    "\n",
    "for article in articles:\n",
    "    completion = client.chat.completions.create(\n",
    "        model=\"gpt-4o\",\n",
    "        messages=[\n",
    "            {\"role\": \"system\", \"content\": \"You are a helpful assistant.\"},\n",
    "            {\n",
    "                \"role\": \"user\",\n",
    "                \"content\": \"Write a haiku about recursion in programming.\"\n",
    "            }\n",
    "        ]\n",
    "    )\n",
    "\n",
    "    print(completion.choices[0].message)\n",
    "\n",
    "    break"
   ]
  }
 ],
 "metadata": {
  "kernelspec": {
   "display_name": "Python 3 (ipykernel)",
   "language": "python",
   "name": "python3"
  },
  "language_info": {
   "codemirror_mode": {
    "name": "ipython",
    "version": 3
   },
   "file_extension": ".py",
   "mimetype": "text/x-python",
   "name": "python",
   "nbconvert_exporter": "python",
   "pygments_lexer": "ipython3",
   "version": "3.12.1"
  }
 },
 "nbformat": 4,
 "nbformat_minor": 5
}
